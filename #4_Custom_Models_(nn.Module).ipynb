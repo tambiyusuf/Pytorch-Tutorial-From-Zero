{
 "cells": [
  {
   "cell_type": "markdown",
   "id": "52a2c4cd",
   "metadata": {},
   "source": [
    "# <b>Creating Model</b>"
   ]
  },
  {
   "cell_type": "markdown",
   "id": "b1e2c84f",
   "metadata": {},
   "source": [
    "Our first purpose was creating model for big datas and deep learning algorithms at the begin. Finally we came this milestone, in this notebook we gonna talk about nn.Module (comes with pytorch framework) and creating custom model for our problem. We talked about tensors, gradients and dataset/dataloeder all tutorial long. Now we are beginnig if you are ready."
   ]
  },
  {
   "cell_type": "markdown",
   "id": "16de56bd",
   "metadata": {},
   "source": [
    "When we start a new project, we do cleaning, preprocessing, sometimes visualization generally these steps dependent to our problems and solutions. The problem can be; <br> \n",
    "<ul>\n",
    "<li>Classsification,</li>\n",
    "<li>Segmentation,</li>\n",
    "<li>Object Detection,</li>\n",
    "<li>Anomaly Detection,</li>\n",
    "<li>Price Predicting and</li>\n",
    "<li>every ai technologies and problem what came your mind.</li>\n",
    "</ul>\n",
    "We can do every thing manually with numpy and tensor without built-in functions that comes from pytorch. <br>\n",
    "But everything easy and we will use the <b>nn.Module</b> when creating model. "
   ]
  },
  {
   "cell_type": "markdown",
   "id": "e7c44a30",
   "metadata": {},
   "source": [
    "### nn.Module Class"
   ]
  },
  {
   "cell_type": "markdown",
   "id": "062ded29",
   "metadata": {},
   "source": [
    "How can we use this class in our project and answer is ; inheritance.<br>\n",
    "We beginning with installing libraries to our project environments and importing .py and .ipynb files.<br><br>\n",
    "<code> import torch.nn as nn </code>  <br><br>this nn.Module is a base class because of that you have to know basics OOP in Python. \n",
    "<br><br>\n",
    "<b><<<< WARNING >>>></b><br>\n",
    "If you want to use nn.Module in your project you have to redefine and override forward method. Because in the next notebooks you will see when we call the model, model calls forward method at the backend. We have to redefine for our problems solution."
   ]
  },
  {
   "cell_type": "code",
   "execution_count": 4,
   "id": "a004f457",
   "metadata": {},
   "outputs": [],
   "source": [
    "import torch\n",
    "import torch.nn as nn "
   ]
  },
  {
   "cell_type": "code",
   "execution_count": 6,
   "id": "98ad1095",
   "metadata": {},
   "outputs": [
    {
     "name": "stdout",
     "output_type": "stream",
     "text": [
      "LinearRegressionModel(\n",
      "  (linear): Linear(in_features=1, out_features=1, bias=True)\n",
      ")\n",
      "Input tensor:\n",
      " tensor([[-0.9595],\n",
      "        [-2.0562],\n",
      "        [ 0.2188],\n",
      "        [ 1.7557],\n",
      "        [ 2.0263]])\n",
      "Predictions:\n",
      " tensor([[ 0.4346],\n",
      "        [ 0.6220],\n",
      "        [ 0.2333],\n",
      "        [-0.0292],\n",
      "        [-0.0755]], grad_fn=<AddmmBackward0>)\n"
     ]
    }
   ],
   "source": [
    "class LinearRegressionModel(nn.Module):\n",
    "    def __init__(self, input_dim, output_dim):\n",
    "        super().__init__()  # Call the parent constructor (nn.Module)\n",
    "        self.linear = nn.Linear(input_dim, output_dim)  # We define a single linear layer\n",
    "\n",
    "    def forward(self, x):\n",
    "        # We forward pass: simply apply the linear layer to input x\n",
    "        return self.linear(x)\n",
    "\n",
    "# We create a dummy input tensor with batch size 5 and input_dim 1\n",
    "x = torch.randn(5, 1)\n",
    "\n",
    "# We create the model: 1 input feature, 1 output feature\n",
    "model = LinearRegressionModel(input_dim=1, output_dim=1)\n",
    "\n",
    "# Print the model architecture\n",
    "print(model)\n",
    "\n",
    "# Forward pass: get the prediction\n",
    "y_pred = model(x)\n",
    "\n",
    "# Print the prediction\n",
    "print(\"Input tensor:\\n\",x)\n",
    "print(\"Predictions:\\n\", y_pred)"
   ]
  }
 ],
 "metadata": {
  "kernelspec": {
   "display_name": "env",
   "language": "python",
   "name": "python3"
  },
  "language_info": {
   "codemirror_mode": {
    "name": "ipython",
    "version": 3
   },
   "file_extension": ".py",
   "mimetype": "text/x-python",
   "name": "python",
   "nbconvert_exporter": "python",
   "pygments_lexer": "ipython3",
   "version": "3.13.2"
  }
 },
 "nbformat": 4,
 "nbformat_minor": 5
}
