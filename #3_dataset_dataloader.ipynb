{
 "cells": [
  {
   "cell_type": "markdown",
   "id": "dfabad6c",
   "metadata": {},
   "source": [
    "# Dataset and Dataloader\n",
    "In this section we'll to examine Dataset and Dataloader. How they works and why we use these?\n",
    "\n",
    "<b>Dataset</b> : used for manage data and data's labels. We can do preprocessing, data Augmentation and ets. We will use torch.util.data.Dataset class for our custom Dataset<br>\n",
    "<b>Dataloader</b> : used for load the batches into model that we will create in the next section. And again we will use torch.util.data.Dataloader class for our costum Dataloader"
   ]
  },
  {
   "cell_type": "code",
   "execution_count": 34,
   "id": "da2e241a",
   "metadata": {},
   "outputs": [],
   "source": [
    "import torch\n",
    "from torch.utils.data import Dataset, DataLoader\n",
    "from torchvision import transforms\n",
    "import numpy as np \n",
    "import pandas as pd"
   ]
  },
  {
   "cell_type": "markdown",
   "id": "81e48c8f",
   "metadata": {},
   "source": [
    "### Dataset"
   ]
  },
  {
   "cell_type": "markdown",
   "id": "7686e9fd",
   "metadata": {},
   "source": [
    "We are creating custom dataset class from torch.utils.data as inheritance <br>\n",
    "__init__ : used for inheritance and creating class atributes (classic class defining code)<br>\n",
    "__getitem__: with the help of this method we reach the data at index<br>\n",
    "__len__ : it returns us the lenght of the dataset (How many data in the dataset)<br>"
   ]
  },
  {
   "cell_type": "code",
   "execution_count": 35,
   "id": "f14dde9f",
   "metadata": {},
   "outputs": [],
   "source": [
    "class SimpleDatasetForBinary(Dataset):\n",
    "    def __init__(self):\n",
    "        self.data = torch.arange(10) #creating sample dataset with the help of the torch simple operators\n",
    "        self.label = self.data%2 # label = {0,1,0,1....}\n",
    "    \n",
    "    def __len__(self):\n",
    "        return len(self.data)\n",
    "\n",
    "    def __getitem__(self, idx):\n",
    "        data =  self.data[idx]\n",
    "        label = self.label[idx]\n",
    "        return data, label"
   ]
  },
  {
   "cell_type": "code",
   "execution_count": 36,
   "id": "f97f14bb",
   "metadata": {},
   "outputs": [
    {
     "name": "stdout",
     "output_type": "stream",
     "text": [
      "length of the dataset :  10\n"
     ]
    }
   ],
   "source": [
    "simple_dataset = SimpleDatasetForBinary()\n",
    "print(\"length of the dataset : \", len(simple_dataset))"
   ]
  },
  {
   "cell_type": "code",
   "execution_count": 37,
   "id": "33c2becd",
   "metadata": {},
   "outputs": [
    {
     "name": "stdout",
     "output_type": "stream",
     "text": [
      "Index 0: Data=0  Label=0\n",
      "Index 1: Data=1  Label=1\n",
      "Index 2: Data=2  Label=0\n",
      "Index 3: Data=3  Label=1\n",
      "Index 4: Data=4  Label=0\n",
      "Index 5: Data=5  Label=1\n",
      "Index 6: Data=6  Label=0\n",
      "Index 7: Data=7  Label=1\n",
      "Index 8: Data=8  Label=0\n",
      "Index 9: Data=9  Label=1\n"
     ]
    }
   ],
   "source": [
    "for i in range(len(simple_dataset)):\n",
    "    x, y = simple_dataset[i]\n",
    "    print(f\"Index {i}: Data={x.item()}  Label={y.item()}\")"
   ]
  },
  {
   "cell_type": "markdown",
   "id": "85c73e29",
   "metadata": {},
   "source": [
    "We don't use this class only tabular data also we can use for image data and labels."
   ]
  },
  {
   "cell_type": "code",
   "execution_count": 38,
   "id": "ca646acd",
   "metadata": {},
   "outputs": [],
   "source": [
    "class DummyImageDataset(Dataset):\n",
    "    def __init__(self, transforms= None):\n",
    "        self.imageData = np.random.randint(0, 256, (10, 64, 64, 3), dtype=np.uint8) #We are crating 10 simple image data with help of numpy\n",
    "        self.imageLabel = np.random.randint(0, 2, (10,), dtype=np.int64)\n",
    "        self.transforms = transforms\n",
    "\n",
    "    def __len__(self):\n",
    "        return len(self.imageData)\n",
    "    \n",
    "    def __getitem__(self, idx):\n",
    "        img = self.imageData[idx]\n",
    "        label = self.imageLabel[idx]\n",
    "        if self.transforms:\n",
    "            img  = self.transforms(img)\n",
    "        return img, label\n",
    "    \n",
    "transform = transforms.Compose([\n",
    "    transforms.ToTensor(),  # numpy → Tensor, and [H,W,C] → [C,H,W]\n",
    "    transforms.Normalize(mean=[0.5, 0.5, 0.5], std=[0.5, 0.5, 0.5])\n",
    "])"
   ]
  },
  {
   "cell_type": "code",
   "execution_count": 39,
   "id": "ec049f61",
   "metadata": {},
   "outputs": [
    {
     "name": "stdout",
     "output_type": "stream",
     "text": [
      "Image Type: <class 'torch.Tensor'>\n",
      "Image Shape: torch.Size([3, 64, 64])\n",
      "Label: 0\n"
     ]
    }
   ],
   "source": [
    "image_dataset = DummyImageDataset(transforms=transform)\n",
    "img, label = image_dataset[1]\n",
    "print(\"Image Type:\", type(img))\n",
    "print(\"Image Shape:\", img.shape)   # [3, 64, 64]\n",
    "print(\"Label:\", label)"
   ]
  },
  {
   "cell_type": "markdown",
   "id": "37d519d9",
   "metadata": {},
   "source": [
    "If we want to read data from a csv file. We will create a temp file then we'll read this file. "
   ]
  },
  {
   "cell_type": "code",
   "execution_count": 40,
   "id": "b396abf2",
   "metadata": {},
   "outputs": [],
   "source": [
    "df = pd.DataFrame({\n",
    "    \"feature1\": [1.2, 2.3, 3.1, 4.7, 5.5, 6.0, 7.4, 8.1, 9.2, 10.5],\n",
    "    \"feature2\": [3.3, 1.8, 2.9, 4.1, 5.2, 6.3, 7.8, 8.6, 9.9, 10.1],\n",
    "    \"target\":   [0,   1,   0,   1,   1,   0,   1,   0,   1,   0]\n",
    "})\n",
    "df.to_csv(\"sample_data.csv\", index=False) #Creating and saving sample csv data "
   ]
  },
  {
   "cell_type": "code",
   "execution_count": 41,
   "id": "a0e8b140",
   "metadata": {},
   "outputs": [],
   "source": [
    "class csvDataset(Dataset):\n",
    "    def __init__(self, csvPath):\n",
    "        self.df = pd.read_csv(csvPath)\n",
    "\n",
    "    def __len__(self):\n",
    "        return len(self.df)\n",
    "    \n",
    "    def __getitem__(self,idx):\n",
    "        x = self.df.loc[idx, [\"feature1\", \"feature2\"]].values.astype(float)\n",
    "        y = self.df.loc[idx, \"target\"].astype(int)\n",
    "\n",
    "        x = torch.tensor(x, dtype=torch.float32)\n",
    "        y = torch.tensor(y, dtype= torch.long)\n",
    "\n",
    "        return x,y"
   ]
  },
  {
   "cell_type": "code",
   "execution_count": 42,
   "id": "c89c4162",
   "metadata": {},
   "outputs": [
    {
     "name": "stdout",
     "output_type": "stream",
     "text": [
      "Length of dataset :  10\n",
      "index(0) >> data :  tensor([1.2000, 3.3000]) , label :  tensor(0)\n",
      "index(1) >> data :  tensor([2.3000, 1.8000]) , label :  tensor(1)\n",
      "index(2) >> data :  tensor([3.1000, 2.9000]) , label :  tensor(0)\n",
      "index(3) >> data :  tensor([4.7000, 4.1000]) , label :  tensor(1)\n",
      "index(4) >> data :  tensor([5.5000, 5.2000]) , label :  tensor(1)\n",
      "index(5) >> data :  tensor([6.0000, 6.3000]) , label :  tensor(0)\n",
      "index(6) >> data :  tensor([7.4000, 7.8000]) , label :  tensor(1)\n",
      "index(7) >> data :  tensor([8.1000, 8.6000]) , label :  tensor(0)\n",
      "index(8) >> data :  tensor([9.2000, 9.9000]) , label :  tensor(1)\n",
      "index(9) >> data :  tensor([10.5000, 10.1000]) , label :  tensor(0)\n"
     ]
    }
   ],
   "source": [
    "csv_dataset = csvDataset('sample_data.csv')\n",
    "print(\"Length of dataset : \",len(csv_dataset))\n",
    "for i in range(len(csv_dataset)):\n",
    "    x, y = csv_dataset[i]\n",
    "    print(f\"index({i}) >> data : \", x, \", label : \",y)"
   ]
  },
  {
   "cell_type": "markdown",
   "id": "d2875560",
   "metadata": {},
   "source": [
    "As yo can see Dataset used for managing data source, importing datas, applying transform, preprocessing or some related operations. It is necessary and very important title in the pytorch lessons now we will look at next part in this section and it is \"DataLoader\""
   ]
  },
  {
   "cell_type": "markdown",
   "id": "c3bba476",
   "metadata": {},
   "source": [
    "### DataLoader\n",
    "<ul>\n",
    "<li>DataLoader is a tool used to feed your model with data, together with PyTorch's custom data class (Dataset).</li>\n",
    "<li>It automatically batches the data from your Dataset, can shuffle the data, and, if you want, loads data in parallel using multiple CPU/GPU cores.</li>\n",
    "<li>It is used for efficient training, easy iteration, and handling large datasets.</li>\n",
    "</ul>"
   ]
  },
  {
   "cell_type": "code",
   "execution_count": 43,
   "id": "33f94d98",
   "metadata": {},
   "outputs": [
    {
     "name": "stdout",
     "output_type": "stream",
     "text": [
      "Batch shape: tensor([[7.4000, 7.8000],\n",
      "        [6.0000, 6.3000],\n",
      "        [5.5000, 5.2000]])\n",
      "Batch labels: tensor([1, 0, 1])\n",
      "Batch shape: tensor([[2.3000, 1.8000],\n",
      "        [9.2000, 9.9000],\n",
      "        [1.2000, 3.3000]])\n",
      "Batch labels: tensor([1, 1, 0])\n",
      "Batch shape: tensor([[3.1000, 2.9000],\n",
      "        [8.1000, 8.6000],\n",
      "        [4.7000, 4.1000]])\n",
      "Batch labels: tensor([0, 0, 1])\n",
      "Batch shape: tensor([[10.5000, 10.1000]])\n",
      "Batch labels: tensor([0])\n"
     ]
    }
   ],
   "source": [
    "dataloader = DataLoader(\n",
    "    csv_dataset,         # custom Dataset instance that created by us \n",
    "    batch_size=3,    # Data size in an epoch\n",
    "    shuffle=True,    # Every epoch shuffle data\n",
    "    num_workers=0    # recommend 0 for Windows user\n",
    ")\n",
    "\n",
    "for batch_x, batch_y in dataloader:\n",
    "    print(\"Batch shape:\", batch_x)\n",
    "    print(\"Batch labels:\", batch_y)"
   ]
  },
  {
   "cell_type": "markdown",
   "id": "f7b55bc2",
   "metadata": {},
   "source": [
    "with the help of this DataLoader we don't need load all data to RAM."
   ]
  }
 ],
 "metadata": {
  "kernelspec": {
   "display_name": "env",
   "language": "python",
   "name": "python3"
  },
  "language_info": {
   "codemirror_mode": {
    "name": "ipython",
    "version": 3
   },
   "file_extension": ".py",
   "mimetype": "text/x-python",
   "name": "python",
   "nbconvert_exporter": "python",
   "pygments_lexer": "ipython3",
   "version": "3.13.2"
  }
 },
 "nbformat": 4,
 "nbformat_minor": 5
}
