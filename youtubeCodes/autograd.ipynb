{
 "cells": [
  {
   "cell_type": "markdown",
   "id": "20eb6b0d",
   "metadata": {},
   "source": [
    "## Autograd"
   ]
  },
  {
   "cell_type": "code",
   "execution_count": 1,
   "id": "81ae219b",
   "metadata": {},
   "outputs": [],
   "source": [
    "import torch "
   ]
  },
  {
   "cell_type": "code",
   "execution_count": 8,
   "id": "5352f554",
   "metadata": {},
   "outputs": [],
   "source": [
    "x = torch.tensor(1, requires_grad=True, dtype=torch.float32)\n",
    "\n",
    "y = x**3 + 3*x +5\n",
    "z = y**2 + y\n",
    "h = 2*z"
   ]
  },
  {
   "cell_type": "code",
   "execution_count": 9,
   "id": "a51c4120",
   "metadata": {},
   "outputs": [],
   "source": [
    "h.backward()"
   ]
  },
  {
   "cell_type": "code",
   "execution_count": 10,
   "id": "2128514a",
   "metadata": {},
   "outputs": [
    {
     "name": "stdout",
     "output_type": "stream",
     "text": [
      "x: 1.0\n",
      "y: 9.0\n",
      "z: 90.0\n",
      "dh/dx: 228.0\n"
     ]
    }
   ],
   "source": [
    "print(\"x:\", x.item())\n",
    "print(\"y:\", y.item())\n",
    "print(\"z:\", z.item())\n",
    "print(\"dh/dx:\", x.grad.item())"
   ]
  }
 ],
 "metadata": {
  "kernelspec": {
   "display_name": "env",
   "language": "python",
   "name": "python3"
  },
  "language_info": {
   "codemirror_mode": {
    "name": "ipython",
    "version": 3
   },
   "file_extension": ".py",
   "mimetype": "text/x-python",
   "name": "python",
   "nbconvert_exporter": "python",
   "pygments_lexer": "ipython3",
   "version": "3.13.2"
  }
 },
 "nbformat": 4,
 "nbformat_minor": 5
}
