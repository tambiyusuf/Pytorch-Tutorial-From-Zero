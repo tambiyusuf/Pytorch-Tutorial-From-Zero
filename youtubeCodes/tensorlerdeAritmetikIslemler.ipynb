{
 "cells": [
  {
   "cell_type": "code",
   "execution_count": 1,
   "id": "0e2b8f3d",
   "metadata": {},
   "outputs": [],
   "source": [
    "import torch"
   ]
  },
  {
   "cell_type": "code",
   "execution_count": 2,
   "id": "75f3ce17",
   "metadata": {},
   "outputs": [
    {
     "data": {
      "text/plain": [
       "tensor([[38, 28, 19],\n",
       "        [12, 36, 35]])"
      ]
     },
     "execution_count": 2,
     "metadata": {},
     "output_type": "execute_result"
    }
   ],
   "source": [
    "matrix = torch.randint(10,40,(2,3))\n",
    "matrix"
   ]
  },
  {
   "cell_type": "code",
   "execution_count": 8,
   "id": "2cdc8e03",
   "metadata": {},
   "outputs": [
    {
     "data": {
      "text/plain": [
       "torch.int64"
      ]
     },
     "execution_count": 8,
     "metadata": {},
     "output_type": "execute_result"
    }
   ],
   "source": [
    "matrix.dtype"
   ]
  },
  {
   "cell_type": "code",
   "execution_count": null,
   "id": "b4ceeeb1",
   "metadata": {},
   "outputs": [],
   "source": [
    "# toplama\n",
    "# cıkartma\n",
    "# carpma\n",
    "# bolme\n",
    "# kuvvet alma\n",
    "# cebirsel çarpım\n",
    "# matrix  toplama\n",
    "# matrix cıkartma\n",
    "# matrix carpma\n",
    "# matrix bolme"
   ]
  },
  {
   "cell_type": "code",
   "execution_count": 3,
   "id": "dd42855e",
   "metadata": {},
   "outputs": [
    {
     "data": {
      "text/plain": [
       "tensor([[48, 38, 29],\n",
       "        [22, 46, 45]])"
      ]
     },
     "execution_count": 3,
     "metadata": {},
     "output_type": "execute_result"
    }
   ],
   "source": [
    "skaler_toplama = matrix + 10\n",
    "skaler_toplama"
   ]
  },
  {
   "cell_type": "code",
   "execution_count": 4,
   "id": "f6b70d36",
   "metadata": {},
   "outputs": [
    {
     "data": {
      "text/plain": [
       "tensor([[28, 18,  9],\n",
       "        [ 2, 26, 25]])"
      ]
     },
     "execution_count": 4,
     "metadata": {},
     "output_type": "execute_result"
    }
   ],
   "source": [
    "skaler_cikartma = matrix -10\n",
    "skaler_cikartma"
   ]
  },
  {
   "cell_type": "code",
   "execution_count": 5,
   "id": "eb32ffcc",
   "metadata": {},
   "outputs": [
    {
     "data": {
      "text/plain": [
       "tensor([[190, 140,  95],\n",
       "        [ 60, 180, 175]])"
      ]
     },
     "execution_count": 5,
     "metadata": {},
     "output_type": "execute_result"
    }
   ],
   "source": [
    "skaler_carpma = matrix * 5\n",
    "skaler_carpma"
   ]
  },
  {
   "cell_type": "code",
   "execution_count": 7,
   "id": "75970949",
   "metadata": {},
   "outputs": [
    {
     "data": {
      "text/plain": [
       "(tensor([[19.0000, 14.0000,  9.5000],\n",
       "         [ 6.0000, 18.0000, 17.5000]]),\n",
       " torch.float32)"
      ]
     },
     "execution_count": 7,
     "metadata": {},
     "output_type": "execute_result"
    }
   ],
   "source": [
    "skaler_bolme = matrix / 2\n",
    "skaler_bolme, skaler_bolme.dtype"
   ]
  },
  {
   "cell_type": "code",
   "execution_count": 11,
   "id": "8751085a",
   "metadata": {},
   "outputs": [
    {
     "data": {
      "text/plain": [
       "tensor([[1444,  784,  361],\n",
       "        [ 144, 1296, 1225]])"
      ]
     },
     "execution_count": 11,
     "metadata": {},
     "output_type": "execute_result"
    }
   ],
   "source": [
    "skaler_ustel = matrix ** 2\n",
    "skaler_ustel"
   ]
  },
  {
   "cell_type": "markdown",
   "id": "367057b6",
   "metadata": {},
   "source": [
    "### Tensörler Arası İşlemler"
   ]
  },
  {
   "cell_type": "code",
   "execution_count": 12,
   "id": "a8788444",
   "metadata": {},
   "outputs": [
    {
     "data": {
      "text/plain": [
       "(tensor([[1, 1, 5],\n",
       "         [2, 4, 3]]),\n",
       " tensor([[38, 28, 19],\n",
       "         [12, 36, 35]]))"
      ]
     },
     "execution_count": 12,
     "metadata": {},
     "output_type": "execute_result"
    }
   ],
   "source": [
    "matrix2 = torch.randint(1,10,(2,3))\n",
    "matrix2, matrix"
   ]
  },
  {
   "cell_type": "code",
   "execution_count": 14,
   "id": "b4cc3935",
   "metadata": {},
   "outputs": [
    {
     "data": {
      "text/plain": [
       "tensor([[39, 29, 24],\n",
       "        [14, 40, 38]])"
      ]
     },
     "execution_count": 14,
     "metadata": {},
     "output_type": "execute_result"
    }
   ],
   "source": [
    "tensor_toplama = matrix+matrix2 \n",
    "tensor_toplama"
   ]
  },
  {
   "cell_type": "code",
   "execution_count": 16,
   "id": "13d1d14b",
   "metadata": {},
   "outputs": [
    {
     "data": {
      "text/plain": [
       "tensor([[39, 29, 24],\n",
       "        [14, 40, 38]])"
      ]
     },
     "execution_count": 16,
     "metadata": {},
     "output_type": "execute_result"
    }
   ],
   "source": [
    "tensor_toplama = torch.add(matrix, matrix2)\n",
    "tensor_toplama"
   ]
  },
  {
   "cell_type": "code",
   "execution_count": 17,
   "id": "263bdefa",
   "metadata": {},
   "outputs": [
    {
     "data": {
      "text/plain": [
       "tensor([[37, 27, 14],\n",
       "        [10, 32, 32]])"
      ]
     },
     "execution_count": 17,
     "metadata": {},
     "output_type": "execute_result"
    }
   ],
   "source": [
    "tensor_cikarma = matrix - matrix2\n",
    "tensor_cikarma"
   ]
  },
  {
   "cell_type": "code",
   "execution_count": 18,
   "id": "5d12e8f3",
   "metadata": {},
   "outputs": [
    {
     "data": {
      "text/plain": [
       "tensor([[37, 27, 14],\n",
       "        [10, 32, 32]])"
      ]
     },
     "execution_count": 18,
     "metadata": {},
     "output_type": "execute_result"
    }
   ],
   "source": [
    "tensro_cikarma = torch.sub(matrix, matrix2)\n",
    "tensor_cikarma"
   ]
  },
  {
   "cell_type": "code",
   "execution_count": 20,
   "id": "ab6e5f79",
   "metadata": {},
   "outputs": [
    {
     "data": {
      "text/plain": [
       "(tensor([[1, 1, 5],\n",
       "         [2, 4, 3]]),\n",
       " tensor([[38, 28, 19],\n",
       "         [12, 36, 35]]))"
      ]
     },
     "execution_count": 20,
     "metadata": {},
     "output_type": "execute_result"
    }
   ],
   "source": [
    "matrix2, matrix"
   ]
  },
  {
   "cell_type": "code",
   "execution_count": 19,
   "id": "8a64ece9",
   "metadata": {},
   "outputs": [
    {
     "data": {
      "text/plain": [
       "tensor([[ 38,  28,  95],\n",
       "        [ 24, 144, 105]])"
      ]
     },
     "execution_count": 19,
     "metadata": {},
     "output_type": "execute_result"
    }
   ],
   "source": [
    "tensor_carpma = matrix * matrix2\n",
    "tensor_carpma"
   ]
  },
  {
   "cell_type": "code",
   "execution_count": 21,
   "id": "837a6bec",
   "metadata": {},
   "outputs": [
    {
     "data": {
      "text/plain": [
       "tensor([[ 38,  28,  95],\n",
       "        [ 24, 144, 105]])"
      ]
     },
     "execution_count": 21,
     "metadata": {},
     "output_type": "execute_result"
    }
   ],
   "source": [
    "tensor_carpma = torch.mul(matrix, matrix2)\n",
    "tensor_carpma"
   ]
  },
  {
   "cell_type": "markdown",
   "id": "0b3b598b",
   "metadata": {},
   "source": [
    "boyut (2,3) * (3,2)"
   ]
  },
  {
   "cell_type": "code",
   "execution_count": 25,
   "id": "7e59e85f",
   "metadata": {},
   "outputs": [
    {
     "data": {
      "text/plain": [
       "tensor([[38, 28, 19],\n",
       "        [12, 36, 35]])"
      ]
     },
     "execution_count": 25,
     "metadata": {},
     "output_type": "execute_result"
    }
   ],
   "source": [
    "matrix "
   ]
  },
  {
   "cell_type": "code",
   "execution_count": 22,
   "id": "f198db7d",
   "metadata": {},
   "outputs": [
    {
     "data": {
      "text/plain": [
       "tensor([[1, 2],\n",
       "        [1, 4],\n",
       "        [5, 3]])"
      ]
     },
     "execution_count": 22,
     "metadata": {},
     "output_type": "execute_result"
    }
   ],
   "source": [
    "matrix2.T"
   ]
  },
  {
   "cell_type": "code",
   "execution_count": 24,
   "id": "38074591",
   "metadata": {},
   "outputs": [
    {
     "data": {
      "text/plain": [
       "tensor([[161, 245],\n",
       "        [223, 273]])"
      ]
     },
     "execution_count": 24,
     "metadata": {},
     "output_type": "execute_result"
    }
   ],
   "source": [
    "cebirsel_carpma = torch.matmul(matrix, matrix2.T)\n",
    "cebirsel_carpma"
   ]
  },
  {
   "cell_type": "code",
   "execution_count": 27,
   "id": "de55f2ba",
   "metadata": {},
   "outputs": [
    {
     "data": {
      "text/plain": [
       "tensor([[161, 245],\n",
       "        [223, 273]])"
      ]
     },
     "execution_count": 27,
     "metadata": {},
     "output_type": "execute_result"
    }
   ],
   "source": [
    "cebirsel_carpma = matrix @ matrix2.T\n",
    "cebirsel_carpma"
   ]
  },
  {
   "cell_type": "code",
   "execution_count": 29,
   "id": "24e766d6",
   "metadata": {},
   "outputs": [
    {
     "data": {
      "text/plain": [
       "(tensor([[38, 28, 19],\n",
       "         [12, 36, 35]]),\n",
       " tensor([[1, 1, 5],\n",
       "         [2, 4, 3]]))"
      ]
     },
     "execution_count": 29,
     "metadata": {},
     "output_type": "execute_result"
    }
   ],
   "source": [
    "matrix, matrix2"
   ]
  },
  {
   "cell_type": "code",
   "execution_count": null,
   "id": "ef5d6707",
   "metadata": {},
   "outputs": [
    {
     "data": {
      "text/plain": [
       "tensor([[38.0000, 28.0000,  3.8000],\n",
       "        [ 6.0000,  9.0000, 11.6667]])"
      ]
     },
     "execution_count": 28,
     "metadata": {},
     "output_type": "execute_result"
    }
   ],
   "source": [
    "tensor_bolme = matrix / matrix2\n",
    "tensor_bolme"
   ]
  },
  {
   "cell_type": "code",
   "execution_count": 30,
   "id": "73aa9a59",
   "metadata": {},
   "outputs": [
    {
     "data": {
      "text/plain": [
       "tensor([[38.0000, 28.0000,  3.8000],\n",
       "        [ 6.0000,  9.0000, 11.6667]])"
      ]
     },
     "execution_count": 30,
     "metadata": {},
     "output_type": "execute_result"
    }
   ],
   "source": [
    "tensor_bolme = torch.div(matrix, matrix2)\n",
    "tensor_bolme"
   ]
  }
 ],
 "metadata": {
  "kernelspec": {
   "display_name": "env",
   "language": "python",
   "name": "python3"
  },
  "language_info": {
   "codemirror_mode": {
    "name": "ipython",
    "version": 3
   },
   "file_extension": ".py",
   "mimetype": "text/x-python",
   "name": "python",
   "nbconvert_exporter": "python",
   "pygments_lexer": "ipython3",
   "version": "3.13.5"
  }
 },
 "nbformat": 4,
 "nbformat_minor": 5
}
